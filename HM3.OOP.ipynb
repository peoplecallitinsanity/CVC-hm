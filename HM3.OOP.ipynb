{
 "cells": [
  {
   "cell_type": "code",
   "execution_count": 7,
   "id": "3801f275",
   "metadata": {},
   "outputs": [],
   "source": [
    "class Human():\n",
    "    def __init__(self, name, surname, year):\n",
    "        self.name = name\n",
    "        self.surname = surname\n",
    "        self.year = year\n",
    "        \n",
    "    def varsta(self):\n",
    "        return 2021 - self.year\n",
    "    \n",
    "    "
   ]
  },
  {
   "cell_type": "code",
   "execution_count": 58,
   "id": "cf1757de",
   "metadata": {},
   "outputs": [],
   "source": [
    "class Student(Human):\n",
    "    def __init__(self, name, surname, year, clasa, nota_medie):\n",
    "        super().__init__(name, surname, year)\n",
    "        self.clasa = clasa\n",
    "        self.nota_medie = nota_medie\n",
    "    def eminent(self):\n",
    "        if self.nota_medie >= 8:\n",
    "            print(self.name + ' este eminent')\n",
    "        else: \n",
    "            print(self.name + ' nu este eminent')"
   ]
  },
  {
   "cell_type": "code",
   "execution_count": 61,
   "id": "d5ce42d1",
   "metadata": {},
   "outputs": [],
   "source": [
    "s1 = Student('Victor', 'Lungu', 2000, 10, 6)"
   ]
  },
  {
   "cell_type": "code",
   "execution_count": 62,
   "id": "aeb5af6d",
   "metadata": {},
   "outputs": [
    {
     "name": "stdout",
     "output_type": "stream",
     "text": [
      "Victor nu este eminent\n"
     ]
    }
   ],
   "source": [
    "s1.eminent()"
   ]
  },
  {
   "cell_type": "code",
   "execution_count": 63,
   "id": "2327e93f",
   "metadata": {},
   "outputs": [
    {
     "data": {
      "text/plain": [
       "21"
      ]
     },
     "execution_count": 63,
     "metadata": {},
     "output_type": "execute_result"
    }
   ],
   "source": [
    "s1.varsta()"
   ]
  },
  {
   "cell_type": "code",
   "execution_count": 64,
   "id": "9f88bd8a",
   "metadata": {},
   "outputs": [],
   "source": [
    "class Profesor(Human):\n",
    "    def __init__(self, name, surname, year, disciplina, salariu):\n",
    "        super().__init__(name, surname, year)\n",
    "        self.disciplina = disciplina\n",
    "        self.salariu = salariu\n",
    "    def salariu_anual(self):\n",
    "        print(self.salariu*12)\n",
    "    def disciplina_(self):\n",
    "        print(self.name +' ' + self.surname + ' preda ' + self.disciplina)\n",
    "#n-am inteles ce se are in vedere prin nr_discipline()"
   ]
  },
  {
   "cell_type": "code",
   "execution_count": 65,
   "id": "1fb63696",
   "metadata": {},
   "outputs": [],
   "source": [
    "p1 = Profesor('Maria', 'Harea', 1968, 'limba romana', 9000)"
   ]
  },
  {
   "cell_type": "code",
   "execution_count": 66,
   "id": "02f5801d",
   "metadata": {},
   "outputs": [
    {
     "name": "stdout",
     "output_type": "stream",
     "text": [
      "108000\n"
     ]
    }
   ],
   "source": [
    "p1.salariu_anual()"
   ]
  },
  {
   "cell_type": "code",
   "execution_count": 67,
   "id": "9e136b8c",
   "metadata": {},
   "outputs": [
    {
     "name": "stdout",
     "output_type": "stream",
     "text": [
      "Maria Harea preda limba romana\n"
     ]
    }
   ],
   "source": [
    "p1.disciplina_()"
   ]
  },
  {
   "cell_type": "code",
   "execution_count": 57,
   "id": "576c861d",
   "metadata": {},
   "outputs": [
    {
     "data": {
      "text/plain": [
       "53"
      ]
     },
     "execution_count": 57,
     "metadata": {},
     "output_type": "execute_result"
    }
   ],
   "source": [
    "p1.varsta()"
   ]
  },
  {
   "cell_type": "code",
   "execution_count": null,
   "id": "cf960367",
   "metadata": {},
   "outputs": [],
   "source": []
  }
 ],
 "metadata": {
  "kernelspec": {
   "display_name": "Python 3 (ipykernel)",
   "language": "python",
   "name": "python3"
  },
  "language_info": {
   "codemirror_mode": {
    "name": "ipython",
    "version": 3
   },
   "file_extension": ".py",
   "mimetype": "text/x-python",
   "name": "python",
   "nbconvert_exporter": "python",
   "pygments_lexer": "ipython3",
   "version": "3.7.7"
  }
 },
 "nbformat": 4,
 "nbformat_minor": 5
}

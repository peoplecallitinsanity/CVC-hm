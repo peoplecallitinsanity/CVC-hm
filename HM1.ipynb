{
 "cells": [
  {
   "cell_type": "code",
   "execution_count": 5,
   "id": "9f6aadb4",
   "metadata": {},
   "outputs": [
    {
     "name": "stdout",
     "output_type": "stream",
     "text": [
      "year:2024\n",
      "luna:2\n"
     ]
    }
   ],
   "source": [
    "an = int(input('year:'))\n",
    "x = int(input('luna:'))"
   ]
  },
  {
   "cell_type": "code",
   "execution_count": 6,
   "id": "f65cba6d",
   "metadata": {},
   "outputs": [],
   "source": [
    "days31 = [1,3,5,7,8,10,12]"
   ]
  },
  {
   "cell_type": "code",
   "execution_count": 7,
   "id": "bb697f2c",
   "metadata": {},
   "outputs": [],
   "source": [
    "days30 = [4,6,9,11]"
   ]
  },
  {
   "cell_type": "code",
   "execution_count": 8,
   "id": "4a1b76a5",
   "metadata": {},
   "outputs": [
    {
     "name": "stdout",
     "output_type": "stream",
     "text": [
      "29\n"
     ]
    }
   ],
   "source": [
    "if an%4 ==0:\n",
    "    if x==2:\n",
    "        print('29')\n",
    "elif x in days31:\n",
    "    print('31')\n",
    "elif x in days30:\n",
    "    print('30')\n",
    "elif x==2:\n",
    "    print('2')"
   ]
  },
  {
   "cell_type": "code",
   "execution_count": null,
   "id": "ce10fe53",
   "metadata": {},
   "outputs": [],
   "source": []
  }
 ],
 "metadata": {
  "kernelspec": {
   "display_name": "Python 3 (ipykernel)",
   "language": "python",
   "name": "python3"
  },
  "language_info": {
   "codemirror_mode": {
    "name": "ipython",
    "version": 3
   },
   "file_extension": ".py",
   "mimetype": "text/x-python",
   "name": "python",
   "nbconvert_exporter": "python",
   "pygments_lexer": "ipython3",
   "version": "3.7.7"
  }
 },
 "nbformat": 4,
 "nbformat_minor": 5
}
